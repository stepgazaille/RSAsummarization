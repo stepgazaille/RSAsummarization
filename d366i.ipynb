{
 "cells": [
  {
   "cell_type": "code",
   "execution_count": 1,
   "metadata": {},
   "outputs": [],
   "source": [
    "import pyrouge\n",
    "import shutil"
   ]
  },
  {
   "cell_type": "code",
   "execution_count": 2,
   "metadata": {},
   "outputs": [],
   "source": [
    "def rouge_eval(ref_dir, dec_dir):\n",
    "    \"\"\"Evaluate the files in ref_dir and dec_dir with pyrouge, returning results_dict\"\"\"\n",
    "    r = pyrouge.Rouge155()\n",
    "    r.model_filename_pattern = '#ID#_reference_(\\d+).txt'\n",
    "    r.system_filename_pattern = '(\\d+)_decoded.txt'\n",
    "    r.model_dir = ref_dir\n",
    "    r.system_dir = dec_dir\n",
    "    return r.convert_and_evaluate()"
   ]
  },
  {
   "cell_type": "code",
   "execution_count": 4,
   "metadata": {
    "scrolled": false
   },
   "outputs": [
    {
     "name": "stderr",
     "output_type": "stream",
     "text": [
      "2019-02-05 13:53:14,360 [MainThread  ] [INFO ]  Writing summaries.\n",
      "2019-02-05 13:53:14,362 [MainThread  ] [INFO ]  Processing summaries. Saving system files to /tmp/tmpQ3QYEF/system and model files to /tmp/tmpQ3QYEF/model.\n",
      "2019-02-05 13:53:14,364 [MainThread  ] [INFO ]  Processing files in eval/dec/.\n",
      "2019-02-05 13:53:14,365 [MainThread  ] [INFO ]  Processing 0_decoded.txt.\n",
      "2019-02-05 13:53:14,367 [MainThread  ] [INFO ]  Saved processed files to /tmp/tmpQ3QYEF/system.\n",
      "2019-02-05 13:53:14,369 [MainThread  ] [INFO ]  Processing files in eval/ref/.\n",
      "2019-02-05 13:53:14,370 [MainThread  ] [INFO ]  Processing 0_reference_0.txt.\n",
      "2019-02-05 13:53:14,372 [MainThread  ] [INFO ]  Processing 0_reference_1.txt.\n",
      "2019-02-05 13:53:14,374 [MainThread  ] [INFO ]  Processing 0_reference_2.txt.\n",
      "2019-02-05 13:53:14,376 [MainThread  ] [INFO ]  Processing 0_reference_3.txt.\n",
      "2019-02-05 13:53:14,378 [MainThread  ] [INFO ]  Processing 0_reference_4.txt.\n",
      "2019-02-05 13:53:14,379 [MainThread  ] [INFO ]  Processing 0_reference_5.txt.\n",
      "2019-02-05 13:53:14,381 [MainThread  ] [INFO ]  Processing 0_reference_6.txt.\n",
      "2019-02-05 13:53:14,383 [MainThread  ] [INFO ]  Processing 0_reference_7.txt.\n",
      "2019-02-05 13:53:14,384 [MainThread  ] [INFO ]  Processing 0_reference_8.txt.\n",
      "2019-02-05 13:53:14,386 [MainThread  ] [INFO ]  Saved processed files to /tmp/tmpQ3QYEF/model.\n",
      "2019-02-05 13:53:14,388 [MainThread  ] [INFO ]  Written ROUGE configuration to /tmp/tmpJw1kui/rouge_conf.xml\n",
      "2019-02-05 13:53:14,389 [MainThread  ] [INFO ]  Running ROUGE with command /home/stephaneg/ROUGE-1.5.5/ROUGE-1.5.5.pl -e /home/stephaneg/ROUGE-1.5.5/data -c 95 -2 -1 -U -r 1000 -n 4 -w 1.2 -a -m /tmp/tmpJw1kui/rouge_conf.xml\n"
     ]
    },
    {
     "name": "stdout",
     "output_type": "stream",
     "text": [
      "---------------------------------------------\n",
      "1 ROUGE-1 Average_R: 0.43795 (95%-conf.int. 0.43795 - 0.43795)\n",
      "1 ROUGE-1 Average_P: 0.34548 (95%-conf.int. 0.34548 - 0.34548)\n",
      "1 ROUGE-1 Average_F: 0.38626 (95%-conf.int. 0.38626 - 0.38626)\n",
      "---------------------------------------------\n",
      "1 ROUGE-2 Average_R: 0.08458 (95%-conf.int. 0.08458 - 0.08458)\n",
      "1 ROUGE-2 Average_P: 0.06667 (95%-conf.int. 0.06667 - 0.06667)\n",
      "1 ROUGE-2 Average_F: 0.07456 (95%-conf.int. 0.07456 - 0.07456)\n",
      "---------------------------------------------\n",
      "1 ROUGE-3 Average_R: 0.02603 (95%-conf.int. 0.02603 - 0.02603)\n",
      "1 ROUGE-3 Average_P: 0.02050 (95%-conf.int. 0.02050 - 0.02050)\n",
      "1 ROUGE-3 Average_F: 0.02294 (95%-conf.int. 0.02294 - 0.02294)\n",
      "---------------------------------------------\n",
      "1 ROUGE-4 Average_R: 0.01559 (95%-conf.int. 0.01559 - 0.01559)\n",
      "1 ROUGE-4 Average_P: 0.01227 (95%-conf.int. 0.01227 - 0.01227)\n",
      "1 ROUGE-4 Average_F: 0.01373 (95%-conf.int. 0.01373 - 0.01373)\n",
      "---------------------------------------------\n",
      "1 ROUGE-L Average_R: 0.40580 (95%-conf.int. 0.40580 - 0.40580)\n",
      "1 ROUGE-L Average_P: 0.32011 (95%-conf.int. 0.32011 - 0.32011)\n",
      "1 ROUGE-L Average_F: 0.35790 (95%-conf.int. 0.35790 - 0.35790)\n",
      "---------------------------------------------\n",
      "1 ROUGE-W-1.2 Average_R: 0.11939 (95%-conf.int. 0.11939 - 0.11939)\n",
      "1 ROUGE-W-1.2 Average_P: 0.16940 (95%-conf.int. 0.16940 - 0.16940)\n",
      "1 ROUGE-W-1.2 Average_F: 0.14006 (95%-conf.int. 0.14006 - 0.14006)\n",
      "---------------------------------------------\n",
      "1 ROUGE-S* Average_R: 0.18352 (95%-conf.int. 0.18352 - 0.18352)\n",
      "1 ROUGE-S* Average_P: 0.11522 (95%-conf.int. 0.11522 - 0.11522)\n",
      "1 ROUGE-S* Average_F: 0.14156 (95%-conf.int. 0.14156 - 0.14156)\n",
      "---------------------------------------------\n",
      "1 ROUGE-SU* Average_R: 0.18557 (95%-conf.int. 0.18557 - 0.18557)\n",
      "1 ROUGE-SU* Average_P: 0.11669 (95%-conf.int. 0.11669 - 0.11669)\n",
      "1 ROUGE-SU* Average_F: 0.14328 (95%-conf.int. 0.14328 - 0.14328)\n",
      "\n"
     ]
    }
   ],
   "source": [
    "print rouge_eval('eval/ref/', 'eval/dec/')"
   ]
  }
 ],
 "metadata": {
  "kernelspec": {
   "display_name": "Python 2",
   "language": "python",
   "name": "python2"
  },
  "language_info": {
   "codemirror_mode": {
    "name": "ipython",
    "version": 2
   },
   "file_extension": ".py",
   "mimetype": "text/x-python",
   "name": "python",
   "nbconvert_exporter": "python",
   "pygments_lexer": "ipython2",
   "version": "2.7.15"
  }
 },
 "nbformat": 4,
 "nbformat_minor": 2
}
