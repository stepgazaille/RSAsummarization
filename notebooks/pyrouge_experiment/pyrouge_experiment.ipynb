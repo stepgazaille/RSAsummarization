{
 "cells": [
  {
   "cell_type": "code",
   "execution_count": 1,
   "metadata": {},
   "outputs": [],
   "source": [
    "import pyrouge\n",
    "import shutil"
   ]
  },
  {
   "cell_type": "code",
   "execution_count": 2,
   "metadata": {},
   "outputs": [],
   "source": [
    "def rouge_eval(ref_dir, dec_dir):\n",
    "    \"\"\"Evaluate the files in ref_dir and dec_dir with pyrouge, returning results_dict\"\"\"\n",
    "    r = pyrouge.Rouge155()\n",
    "    r.model_filename_pattern = '#ID#_reference_(\\d+).txt'\n",
    "    r.system_filename_pattern = '(\\d+)_decoded.txt'\n",
    "    r.model_dir = ref_dir\n",
    "    r.system_dir = dec_dir\n",
    "    return r.convert_and_evaluate()"
   ]
  },
  {
   "cell_type": "code",
   "execution_count": 3,
   "metadata": {
    "scrolled": false
   },
   "outputs": [
    {
     "name": "stderr",
     "output_type": "stream",
     "text": [
      "2019-02-12 07:35:18,563 [MainThread  ] [INFO ]  Writing summaries.\n",
      "2019-02-12 07:35:18,566 [MainThread  ] [INFO ]  Processing summaries. Saving system files to /tmp/tmphzcSbK/system and model files to /tmp/tmphzcSbK/model.\n",
      "2019-02-12 07:35:18,567 [MainThread  ] [INFO ]  Processing files in eval/dec/.\n",
      "2019-02-12 07:35:18,568 [MainThread  ] [INFO ]  Processing 0_decoded.txt.\n",
      "2019-02-12 07:35:18,571 [MainThread  ] [INFO ]  Saved processed files to /tmp/tmphzcSbK/system.\n",
      "2019-02-12 07:35:18,572 [MainThread  ] [INFO ]  Processing files in eval/ref/.\n",
      "2019-02-12 07:35:18,574 [MainThread  ] [INFO ]  Processing 0_reference_0.txt.\n",
      "2019-02-12 07:35:18,576 [MainThread  ] [INFO ]  Saved processed files to /tmp/tmphzcSbK/model.\n",
      "2019-02-12 07:35:18,578 [MainThread  ] [INFO ]  Written ROUGE configuration to /tmp/tmpJsNZCC/rouge_conf.xml\n",
      "2019-02-12 07:35:18,579 [MainThread  ] [INFO ]  Running ROUGE with command /home/stephaneg/ROUGE-1.5.5/ROUGE-1.5.5.pl -e /home/stephaneg/ROUGE-1.5.5/data -c 95 -2 -1 -U -r 1000 -n 4 -w 1.2 -a -m /tmp/tmpJsNZCC/rouge_conf.xml\n"
     ]
    },
    {
     "name": "stdout",
     "output_type": "stream",
     "text": [
      "---------------------------------------------\n",
      "1 ROUGE-1 Average_R: 1.00000 (95%-conf.int. 1.00000 - 1.00000)\n",
      "1 ROUGE-1 Average_P: 1.00000 (95%-conf.int. 1.00000 - 1.00000)\n",
      "1 ROUGE-1 Average_F: 1.00000 (95%-conf.int. 1.00000 - 1.00000)\n",
      "---------------------------------------------\n",
      "1 ROUGE-2 Average_R: 1.00000 (95%-conf.int. 1.00000 - 1.00000)\n",
      "1 ROUGE-2 Average_P: 1.00000 (95%-conf.int. 1.00000 - 1.00000)\n",
      "1 ROUGE-2 Average_F: 1.00000 (95%-conf.int. 1.00000 - 1.00000)\n",
      "---------------------------------------------\n",
      "1 ROUGE-3 Average_R: 1.00000 (95%-conf.int. 1.00000 - 1.00000)\n",
      "1 ROUGE-3 Average_P: 1.00000 (95%-conf.int. 1.00000 - 1.00000)\n",
      "1 ROUGE-3 Average_F: 1.00000 (95%-conf.int. 1.00000 - 1.00000)\n",
      "---------------------------------------------\n",
      "1 ROUGE-4 Average_R: 1.00000 (95%-conf.int. 1.00000 - 1.00000)\n",
      "1 ROUGE-4 Average_P: 1.00000 (95%-conf.int. 1.00000 - 1.00000)\n",
      "1 ROUGE-4 Average_F: 1.00000 (95%-conf.int. 1.00000 - 1.00000)\n",
      "---------------------------------------------\n",
      "1 ROUGE-L Average_R: 1.00000 (95%-conf.int. 1.00000 - 1.00000)\n",
      "1 ROUGE-L Average_P: 1.00000 (95%-conf.int. 1.00000 - 1.00000)\n",
      "1 ROUGE-L Average_F: 1.00000 (95%-conf.int. 1.00000 - 1.00000)\n",
      "---------------------------------------------\n",
      "1 ROUGE-W-1.2 Average_R: 0.35759 (95%-conf.int. 0.35759 - 0.35759)\n",
      "1 ROUGE-W-1.2 Average_P: 0.67336 (95%-conf.int. 0.67336 - 0.67336)\n",
      "1 ROUGE-W-1.2 Average_F: 0.46712 (95%-conf.int. 0.46712 - 0.46712)\n",
      "---------------------------------------------\n",
      "1 ROUGE-S* Average_R: 1.00000 (95%-conf.int. 1.00000 - 1.00000)\n",
      "1 ROUGE-S* Average_P: 1.00000 (95%-conf.int. 1.00000 - 1.00000)\n",
      "1 ROUGE-S* Average_F: 1.00000 (95%-conf.int. 1.00000 - 1.00000)\n",
      "---------------------------------------------\n",
      "1 ROUGE-SU* Average_R: 1.00000 (95%-conf.int. 1.00000 - 1.00000)\n",
      "1 ROUGE-SU* Average_P: 1.00000 (95%-conf.int. 1.00000 - 1.00000)\n",
      "1 ROUGE-SU* Average_F: 1.00000 (95%-conf.int. 1.00000 - 1.00000)\n",
      "\n"
     ]
    }
   ],
   "source": [
    "print rouge_eval('eval/ref/', 'eval/dec/')"
   ]
  }
 ],
 "metadata": {
  "kernelspec": {
   "display_name": "Python 2",
   "language": "python",
   "name": "python2"
  },
  "language_info": {
   "codemirror_mode": {
    "name": "ipython",
    "version": 2
   },
   "file_extension": ".py",
   "mimetype": "text/x-python",
   "name": "python",
   "nbconvert_exporter": "python",
   "pygments_lexer": "ipython2",
   "version": "2.7.15"
  }
 },
 "nbformat": 4,
 "nbformat_minor": 2
}
